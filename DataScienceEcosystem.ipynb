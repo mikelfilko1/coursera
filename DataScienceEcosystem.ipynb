{
 "cells": [
  {
   "cell_type": "markdown",
   "id": "a5d6dc17",
   "metadata": {},
   "source": [
    "# Data Science Tools and Ecosystem"
   ]
  },
  {
   "cell_type": "markdown",
   "id": "b34fe537",
   "metadata": {},
   "source": [
    "In this notebook, I will summarise Data Science Tools and Ecosystem."
   ]
  },
  {
   "cell_type": "markdown",
   "id": "6e0bb39b",
   "metadata": {},
   "source": [
    "**Objectives:**\n",
    "\n",
    "* List some of the popular languages that Data Scientist use\n",
    "* List some of the commonly used libraries\n",
    "* Lists some of the Data Science Tools\n",
    "* Show examples of how arithmetic expressions can be coded in Python"
   ]
  },
  {
   "cell_type": "markdown",
   "id": "84db6fd4",
   "metadata": {},
   "source": [
    "## Author\n",
    "\n",
    "Mikel Tan\n",
    "\n"
   ]
  },
  {
   "cell_type": "markdown",
   "id": "93567a0b",
   "metadata": {},
   "source": [
    "Some of the popular languages that Data Scientists use are:\n",
    "1. Python\n",
    "2. R\n",
    "3. SQL\n",
    "4. Java\n",
    "5. JavaScript\n",
    "6. Scala"
   ]
  },
  {
   "cell_type": "markdown",
   "id": "733aefdb",
   "metadata": {},
   "source": [
    "Some of the commonly used libraries used by Data Scientists include:\n",
    "1. NumPy\n",
    "2. Matplotlib\n",
    "3. Pandas\n",
    "4. ggplot2\n",
    "5. ggally\n"
   ]
  },
  {
   "cell_type": "markdown",
   "id": "2b712e18",
   "metadata": {},
   "source": [
    "| Data Science Tools | \n",
    "| :---- | \n",
    "| Apache Spark |\n",
    "| Weka |\n",
    "| TensorFlow |\n",
    "| PyTorch |"
   ]
  },
  {
   "cell_type": "markdown",
   "id": "6aadbdf1",
   "metadata": {},
   "source": [
    "### Below are a few examples of evaluating arithmetic expressions in Python:\n",
    "\n",
    "x = 10\n",
    "</br>\n",
    "y = 20\n",
    "</br>\n",
    "z = x + y\n",
    "</br>\n",
    "print(z)\n",
    "</br>\n",
    "\n",
    "\n",
    "x = 2\n",
    "</br>\n",
    "y = 3\n",
    "</br>\n",
    "z = x * y\n",
    "</br>\n",
    "print(z)\n",
    "</br>\n",
    "\n",
    "\n",
    "\n"
   ]
  },
  {
   "cell_type": "code",
   "execution_count": 3,
   "id": "08271fbb",
   "metadata": {},
   "outputs": [
    {
     "data": {
      "text/plain": [
       "17"
      ]
     },
     "execution_count": 3,
     "metadata": {},
     "output_type": "execute_result"
    }
   ],
   "source": [
    " #This a simple arithmetic expression to mutiply then add integers.\n",
    "\n",
    "(3*4)+5"
   ]
  },
  {
   "cell_type": "code",
   "execution_count": 26,
   "id": "9491894f",
   "metadata": {},
   "outputs": [
    {
     "name": "stdout",
     "output_type": "stream",
     "text": [
      "3.33 hours\n"
     ]
    }
   ],
   "source": [
    "# This will convert 200 minutes to hours by diving by 60\n",
    "# I have rounded the hours off to 2 decimal places\n",
    "\n",
    "mins = 200\n",
    "\n",
    "hours = mins/60\n",
    "\n",
    "print(str(round(hours,2)) + \" hours\")"
   ]
  }
 ],
 "metadata": {
  "kernelspec": {
   "display_name": "Python 3 (ipykernel)",
   "language": "python",
   "name": "python3"
  },
  "language_info": {
   "codemirror_mode": {
    "name": "ipython",
    "version": 3
   },
   "file_extension": ".py",
   "mimetype": "text/x-python",
   "name": "python",
   "nbconvert_exporter": "python",
   "pygments_lexer": "ipython3",
   "version": "3.11.4"
  }
 },
 "nbformat": 4,
 "nbformat_minor": 5
}
